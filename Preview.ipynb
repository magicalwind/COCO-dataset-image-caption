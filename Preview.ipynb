{
 "cells": [
  {
   "cell_type": "code",
   "execution_count": null,
   "metadata": {
    "scrolled": false
   },
   "outputs": [
    {
     "name": "stdout",
     "output_type": "stream",
     "text": [
      "Requirement already satisfied: nltk in /opt/conda/lib/python3.6/site-packages\n",
      "Requirement already satisfied: six in /opt/conda/lib/python3.6/site-packages (from nltk)\n",
      "\u001b[33mYou are using pip version 9.0.1, however version 10.0.1 is available.\n",
      "You should consider upgrading via the 'pip install --upgrade pip' command.\u001b[0m\n",
      "[nltk_data] Downloading package punkt to /root/nltk_data...\n",
      "[nltk_data]   Unzipping tokenizers/punkt.zip.\n",
      "loading annotations into memory...\n",
      "Done (t=1.00s)\n",
      "creating index...\n",
      "index created!\n",
      "[0/414113] Tokenizing captions...\n",
      "[100000/414113] Tokenizing captions...\n",
      "[200000/414113] Tokenizing captions...\n",
      "[300000/414113] Tokenizing captions...\n",
      "[400000/414113] Tokenizing captions...\n",
      "loading annotations into memory...\n",
      "Done (t=0.79s)\n",
      "creating index...\n"
     ]
    },
    {
     "name": "stderr",
     "output_type": "stream",
     "text": [
      "  0%|          | 1382/414113 [00:00<00:59, 6908.35it/s]"
     ]
    },
    {
     "name": "stdout",
     "output_type": "stream",
     "text": [
      "index created!\n",
      "Obtaining caption lengths...\n"
     ]
    },
    {
     "name": "stderr",
     "output_type": "stream",
     "text": [
      " 60%|██████    | 250232/414113 [00:37<00:24, 6606.58it/s]"
     ]
    }
   ],
   "source": [
    "import sys\n",
    "sys.path.append('./cocoapi/PythonAPI')\n",
    "from pycocotools.coco import COCO\n",
    "!pip install nltk\n",
    "import nltk\n",
    "nltk.download('punkt')\n",
    "from data_loader import get_loader\n",
    "from torchvision import transforms\n",
    "\n",
    "# Define a transform to pre-process the training images.\n",
    "transform_train = transforms.Compose([ \n",
    "    transforms.Resize(256),                          # smaller edge of image resized to 256\n",
    "    transforms.RandomCrop(224),                      # get 224x224 crop from random location\n",
    "    transforms.RandomHorizontalFlip(),               # horizontally flip image with probability=0.5\n",
    "    transforms.ToTensor(),                           # convert the PIL Image to a tensor\n",
    "    transforms.Normalize((0.485, 0.456, 0.406),      # normalize image for pre-trained model\n",
    "                         (0.229, 0.224, 0.225))])\n",
    "\n",
    "# Set the minimum word count threshold.\n",
    "vocab_threshold = 5\n",
    "\n",
    "# Specify the batch size.\n",
    "batch_size = 10\n",
    "\n",
    "# Obtain the data loader.\n",
    "data_loader = get_loader(transform=transform_train,\n",
    "                         mode='train',\n",
    "                         batch_size=batch_size,\n",
    "                         vocab_threshold=vocab_threshold,\n",
    "                         vocab_from_file=False)"
   ]
  },
  {
   "cell_type": "markdown",
   "metadata": {},
   "source": [
    "\n",
    "#### Caption Pre-Processing \n",
    "\n"
   ]
  },
  {
   "cell_type": "code",
   "execution_count": 2,
   "metadata": {
    "collapsed": true
   },
   "outputs": [],
   "source": [
    "sample_caption = 'A person doing a trick on a rail while riding a skateboard.'"
   ]
  },
  {
   "cell_type": "code",
   "execution_count": 3,
   "metadata": {},
   "outputs": [
    {
     "name": "stdout",
     "output_type": "stream",
     "text": [
      "['a', 'person', 'doing', 'a', 'trick', 'on', 'a', 'rail', 'while', 'riding', 'a', 'skateboard', '.']\n"
     ]
    }
   ],
   "source": [
    "import nltk\n",
    "\n",
    "sample_tokens = nltk.tokenize.word_tokenize(str(sample_caption).lower())\n",
    "print(sample_tokens)"
   ]
  },
  {
   "cell_type": "code",
   "execution_count": 4,
   "metadata": {},
   "outputs": [
    {
     "name": "stdout",
     "output_type": "stream",
     "text": [
      "Special start word: <start>\n",
      "[0]\n"
     ]
    }
   ],
   "source": [
    "sample_caption = []\n",
    "\n",
    "start_word = data_loader.dataset.vocab.start_word\n",
    "print('Special start word:', start_word)\n",
    "sample_caption.append(data_loader.dataset.vocab(start_word))\n",
    "print(sample_caption)"
   ]
  },
  {
   "cell_type": "code",
   "execution_count": 5,
   "metadata": {},
   "outputs": [
    {
     "name": "stdout",
     "output_type": "stream",
     "text": [
      "[0, 3, 98, 754, 3, 396, 39, 3, 1009, 207, 139, 3, 753, 18]\n"
     ]
    }
   ],
   "source": [
    "sample_caption.extend([data_loader.dataset.vocab(token) for token in sample_tokens])\n",
    "print(sample_caption)"
   ]
  },
  {
   "cell_type": "code",
   "execution_count": 6,
   "metadata": {},
   "outputs": [
    {
     "name": "stdout",
     "output_type": "stream",
     "text": [
      "Special end word: <end>\n",
      "[0, 3, 98, 754, 3, 396, 39, 3, 1009, 207, 139, 3, 753, 18, 1]\n"
     ]
    }
   ],
   "source": [
    "end_word = data_loader.dataset.vocab.end_word\n",
    "print('Special end word:', end_word)\n",
    "\n",
    "sample_caption.append(data_loader.dataset.vocab(end_word))\n",
    "print(sample_caption)"
   ]
  },
  {
   "cell_type": "code",
   "execution_count": 7,
   "metadata": {},
   "outputs": [
    {
     "name": "stdout",
     "output_type": "stream",
     "text": [
      "tensor([    0,     3,    98,   754,     3,   396,    39,     3,  1009,\n",
      "          207,   139,     3,   753,    18,     1])\n"
     ]
    }
   ],
   "source": [
    "import torch\n",
    "\n",
    "sample_caption = torch.Tensor(sample_caption).long()\n",
    "print(sample_caption)"
   ]
  },
  {
   "cell_type": "code",
   "execution_count": 8,
   "metadata": {},
   "outputs": [
    {
     "data": {
      "text/plain": [
       "{'<end>': 1,\n",
       " '<start>': 0,\n",
       " '<unk>': 2,\n",
       " 'a': 3,\n",
       " 'and': 6,\n",
       " 'clean': 5,\n",
       " 'decorated': 8,\n",
       " 'empty': 9,\n",
       " 'very': 4,\n",
       " 'well': 7}"
      ]
     },
     "execution_count": 8,
     "metadata": {},
     "output_type": "execute_result"
    }
   ],
   "source": [
    "# Preview the word2idx dictionary.\n",
    "dict(list(data_loader.dataset.vocab.word2idx.items())[:10])"
   ]
  },
  {
   "cell_type": "code",
   "execution_count": 9,
   "metadata": {},
   "outputs": [
    {
     "name": "stdout",
     "output_type": "stream",
     "text": [
      "Total number of tokens in vocabulary: 8855\n"
     ]
    }
   ],
   "source": [
    "# Print the total number of keys in the word2idx dictionary.\n",
    "print('Total number of tokens in vocabulary:', len(data_loader.dataset.vocab))"
   ]
  },
  {
   "cell_type": "markdown",
   "metadata": {},
   "source": [
    "Adjust the `vocab_threshold` argument when instantiating your data loader.  **smaller** values for `vocab_threshold` yield a **larger** number of tokens in the vocabulary.  "
   ]
  },
  {
   "cell_type": "code",
   "execution_count": 11,
   "metadata": {},
   "outputs": [
    {
     "name": "stdout",
     "output_type": "stream",
     "text": [
      "loading annotations into memory...\n",
      "Done (t=0.79s)\n",
      "creating index...\n",
      "index created!\n",
      "[0/414113] Tokenizing captions...\n",
      "[100000/414113] Tokenizing captions...\n",
      "[200000/414113] Tokenizing captions...\n",
      "[300000/414113] Tokenizing captions...\n",
      "[400000/414113] Tokenizing captions...\n",
      "loading annotations into memory...\n"
     ]
    },
    {
     "name": "stderr",
     "output_type": "stream",
     "text": [
      "  0%|          | 1323/414113 [00:00<01:03, 6455.37it/s]"
     ]
    },
    {
     "name": "stdout",
     "output_type": "stream",
     "text": [
      "Done (t=0.75s)\n",
      "creating index...\n",
      "index created!\n",
      "Obtaining caption lengths...\n"
     ]
    },
    {
     "name": "stderr",
     "output_type": "stream",
     "text": [
      "100%|██████████| 414113/414113 [01:00<00:00, 6819.17it/s]\n"
     ]
    }
   ],
   "source": [
    "# Modify the minimum word count threshold.\n",
    "vocab_threshold = 4\n",
    "\n",
    "# Obtain the data loader.\n",
    "data_loader = get_loader(transform=transform_train,\n",
    "                         mode='train',\n",
    "                         batch_size=batch_size,\n",
    "                         vocab_threshold=vocab_threshold,\n",
    "                         vocab_from_file=False)"
   ]
  },
  {
   "cell_type": "code",
   "execution_count": 33,
   "metadata": {},
   "outputs": [
    {
     "name": "stdout",
     "output_type": "stream",
     "text": [
      "Total number of tokens in vocabulary: 8855\n"
     ]
    }
   ],
   "source": [
    "# Print the total number of keys in the word2idx dictionary.\n",
    "print('Total number of tokens in vocabulary:', len(data_loader.dataset.vocab))"
   ]
  },
  {
   "cell_type": "code",
   "execution_count": 10,
   "metadata": {},
   "outputs": [
    {
     "name": "stdout",
     "output_type": "stream",
     "text": [
      "Special unknown word: <unk>\n",
      "All unknown words are mapped to this integer: 2\n"
     ]
    }
   ],
   "source": [
    "unk_word = data_loader.dataset.vocab.unk_word\n",
    "print('Special unknown word:', unk_word)\n",
    "\n",
    "print('All unknown words are mapped to this integer:', data_loader.dataset.vocab(unk_word))"
   ]
  },
  {
   "cell_type": "code",
   "execution_count": 10,
   "metadata": {},
   "outputs": [
    {
     "name": "stdout",
     "output_type": "stream",
     "text": [
      "2\n",
      "2\n"
     ]
    }
   ],
   "source": [
    "print(data_loader.dataset.vocab('jfkafejw'))\n",
    "print(data_loader.dataset.vocab('ieowoqjf'))"
   ]
  },
  {
   "cell_type": "markdown",
   "metadata": {},
   "source": [
    "##  Obtain the data loader (from file). "
   ]
  },
  {
   "cell_type": "code",
   "execution_count": 11,
   "metadata": {},
   "outputs": [
    {
     "name": "stdout",
     "output_type": "stream",
     "text": [
      "Vocabulary successfully loaded from vocab.pkl file!\n",
      "loading annotations into memory...\n"
     ]
    },
    {
     "name": "stderr",
     "output_type": "stream",
     "text": [
      "  0%|          | 1243/414113 [00:00<01:08, 6035.71it/s]"
     ]
    },
    {
     "name": "stdout",
     "output_type": "stream",
     "text": [
      "Done (t=0.78s)\n",
      "creating index...\n",
      "index created!\n",
      "Obtaining caption lengths...\n"
     ]
    },
    {
     "name": "stderr",
     "output_type": "stream",
     "text": [
      "100%|██████████| 414113/414113 [01:02<00:00, 6622.08it/s]\n"
     ]
    }
   ],
   "source": [
    "\n",
    "data_loader = get_loader(transform=transform_train,\n",
    "                         mode='train',\n",
    "                         batch_size=batch_size,\n",
    "                         vocab_from_file=True)"
   ]
  },
  {
   "cell_type": "code",
   "execution_count": 12,
   "metadata": {},
   "outputs": [
    {
     "name": "stdout",
     "output_type": "stream",
     "text": [
      "value: 10 --- count: 86334\n",
      "value: 11 --- count: 79948\n",
      "value:  9 --- count: 71934\n",
      "value: 12 --- count: 57637\n",
      "value: 13 --- count: 37645\n",
      "value: 14 --- count: 22335\n",
      "value:  8 --- count: 20771\n",
      "value: 15 --- count: 12841\n",
      "value: 16 --- count:  7729\n",
      "value: 17 --- count:  4842\n",
      "value: 18 --- count:  3104\n",
      "value: 19 --- count:  2014\n",
      "value:  7 --- count:  1597\n",
      "value: 20 --- count:  1451\n",
      "value: 21 --- count:   999\n",
      "value: 22 --- count:   683\n",
      "value: 23 --- count:   534\n",
      "value: 24 --- count:   383\n",
      "value: 25 --- count:   277\n",
      "value: 26 --- count:   215\n",
      "value: 27 --- count:   159\n",
      "value: 28 --- count:   115\n",
      "value: 29 --- count:    86\n",
      "value: 30 --- count:    58\n",
      "value: 31 --- count:    49\n",
      "value: 32 --- count:    44\n",
      "value: 34 --- count:    39\n",
      "value: 37 --- count:    32\n",
      "value: 33 --- count:    31\n",
      "value: 35 --- count:    31\n",
      "value: 36 --- count:    26\n",
      "value: 38 --- count:    18\n",
      "value: 39 --- count:    18\n",
      "value: 43 --- count:    16\n",
      "value: 44 --- count:    16\n",
      "value: 48 --- count:    12\n",
      "value: 45 --- count:    11\n",
      "value: 42 --- count:    10\n",
      "value: 40 --- count:     9\n",
      "value: 49 --- count:     9\n",
      "value: 46 --- count:     9\n",
      "value: 47 --- count:     7\n",
      "value: 50 --- count:     6\n",
      "value: 51 --- count:     6\n",
      "value: 41 --- count:     6\n",
      "value: 52 --- count:     5\n",
      "value: 54 --- count:     3\n",
      "value: 56 --- count:     2\n",
      "value:  6 --- count:     2\n",
      "value: 53 --- count:     2\n",
      "value: 55 --- count:     2\n",
      "value: 57 --- count:     1\n"
     ]
    }
   ],
   "source": [
    "from collections import Counter\n",
    "\n",
    "# Tally the total number of training captions with each length.\n",
    "counter = Counter(data_loader.dataset.caption_lengths)\n",
    "lengths = sorted(counter.items(), key=lambda pair: pair[1], reverse=True)\n",
    "for value, count in lengths:\n",
    "    print('value: %2d --- count: %5d' % (value, count))"
   ]
  },
  {
   "cell_type": "code",
   "execution_count": 13,
   "metadata": {
    "scrolled": false
   },
   "outputs": [
    {
     "name": "stdout",
     "output_type": "stream",
     "text": [
      "sampled indices: [316200, 117395, 191230, 275972, 72145, 18777, 182624, 360993, 42071, 56538]\n",
      "images.shape: torch.Size([10, 3, 224, 224])\n",
      "captions.shape: torch.Size([10, 15])\n",
      "images: tensor([[[[ 0.5707,  0.6563,  0.6734,  ..., -0.1657, -0.1486, -0.1657],\n",
      "          [ 0.7248,  0.7762,  0.7077,  ..., -0.2171, -0.2342, -0.2171],\n",
      "          [ 0.6049,  0.7419,  0.6906,  ..., -0.2342, -0.1999, -0.1657],\n",
      "          ...,\n",
      "          [ 1.1187,  1.0331,  0.3309,  ..., -0.9705, -0.8849, -0.7822],\n",
      "          [ 1.1358,  1.1358,  0.4851,  ..., -0.8849, -0.8164, -0.7479],\n",
      "          [ 1.2214,  1.1700,  0.7419,  ..., -0.8164, -0.7822, -0.7822]],\n",
      "\n",
      "         [[-0.4426, -0.3725, -0.4426,  ...,  0.3978,  0.3627,  0.3978],\n",
      "          [-0.4776, -0.4426, -0.5126,  ...,  0.4328,  0.3803,  0.4153],\n",
      "          [-0.5301, -0.4076, -0.4426,  ...,  0.3978,  0.3627,  0.3452],\n",
      "          ...,\n",
      "          [ 1.1506,  0.9580,  0.1001,  ..., -1.1078, -1.0203, -0.7577],\n",
      "          [ 1.1331,  1.0980,  0.3978,  ..., -0.7927, -0.7752, -0.6877],\n",
      "          [ 1.1331,  1.0980,  0.6254,  ..., -0.7927, -0.7577, -0.7577]],\n",
      "\n",
      "         [[-0.4275, -0.3230, -0.3578,  ...,  0.6008,  0.5485,  0.3916],\n",
      "          [-0.4101, -0.3753, -0.4101,  ...,  0.4962,  0.4614,  0.3916],\n",
      "          [-0.5321, -0.5321, -0.5147,  ...,  0.4788,  0.6008,  0.5311],\n",
      "          ...,\n",
      "          [ 0.7576,  0.7054,  0.0082,  ..., -1.0898, -0.9853, -0.9853],\n",
      "          [ 0.7402,  0.6879,  0.0605,  ..., -0.7064, -0.7587, -0.9678],\n",
      "          [ 0.8274,  0.7925,  0.4788,  ..., -0.6193, -0.6193, -0.7413]]],\n",
      "\n",
      "\n",
      "        [[[-0.5596, -0.5424, -0.5253,  ..., -0.1828, -0.2171, -0.2171],\n",
      "          [-0.4911, -0.5082, -0.5253,  ..., -0.2171, -0.1999, -0.1657],\n",
      "          [-0.4911, -0.4739, -0.4739,  ..., -0.1486, -0.1486, -0.1314],\n",
      "          ...,\n",
      "          [ 1.1358,  1.1015,  0.9817,  ...,  0.6221,  0.5878,  0.6563],\n",
      "          [ 1.1358,  1.1529,  1.0502,  ...,  0.4337,  0.5193,  0.7077],\n",
      "          [ 1.0159,  0.9817,  0.9303,  ...,  0.7419,  0.7591,  0.9303]],\n",
      "\n",
      "         [[-0.3550, -0.3375, -0.3200,  ...,  0.0126, -0.0049, -0.0049],\n",
      "          [-0.2850, -0.3025, -0.3200,  ..., -0.0224,  0.0126,  0.0476],\n",
      "          [-0.3025, -0.2850, -0.2850,  ...,  0.0476,  0.0476,  0.0651],\n",
      "          ...,\n",
      "          [ 1.2381,  1.2031,  1.0805,  ...,  0.7479,  0.7129,  0.7829],\n",
      "          [ 1.2381,  1.2381,  1.1506,  ...,  0.5553,  0.6429,  0.8354],\n",
      "          [ 1.1155,  1.0630,  1.0280,  ...,  0.8704,  0.8880,  1.0630]],\n",
      "\n",
      "         [[-0.0441, -0.0441, -0.0267,  ...,  0.3916,  0.3219,  0.3219],\n",
      "          [ 0.0431,  0.0256,  0.0256,  ...,  0.3916,  0.3916,  0.4091],\n",
      "          [ 0.0431,  0.0953,  0.0953,  ...,  0.4614,  0.4614,  0.4788],\n",
      "          ...,\n",
      "          [ 1.6117,  1.5768,  1.4548,  ...,  1.0714,  1.0365,  1.1062],\n",
      "          [ 1.6117,  1.6117,  1.5245,  ...,  0.8797,  0.9842,  1.1585],\n",
      "          [ 1.4897,  1.4374,  1.4025,  ...,  1.2108,  1.2108,  1.3851]]],\n",
      "\n",
      "\n",
      "        [[[ 1.6495,  1.6495,  1.6667,  ...,  0.5707, -0.3027,  1.2728],\n",
      "          [ 1.6324,  1.6838,  1.5810,  ...,  0.3138, -0.1314,  1.3413],\n",
      "          [ 1.7180,  1.8037,  1.6324,  ...,  0.1939, -0.0116,  1.4098],\n",
      "          ...,\n",
      "          [-0.2684, -0.2856, -0.3541,  ...,  0.1083,  0.1426,  0.1597],\n",
      "          [-0.1314, -0.3198, -0.4739,  ...,  0.1254,  0.1426,  0.1768],\n",
      "          [ 0.8961, -0.1999, -0.4226,  ...,  0.1083,  0.0569,  0.0912]],\n",
      "\n",
      "         [[ 1.7108,  1.7108,  1.7108,  ..., -0.0049, -0.3375,  0.7304],\n",
      "          [ 1.7458,  1.7808,  1.6933,  ..., -0.0749, -0.1450,  0.6254],\n",
      "          [ 1.8683,  1.9384,  1.8158,  ..., -0.2150, -0.0399,  0.4853],\n",
      "          ...,\n",
      "          [-0.3725, -0.4601, -0.4951,  ...,  0.0126, -0.0049, -0.0049],\n",
      "          [-0.2675, -0.3725, -0.4601,  ...,  0.0126, -0.0224, -0.0049],\n",
      "          [ 0.8704, -0.3375, -0.4251,  ..., -0.0049, -0.0399,  0.0476]],\n",
      "\n",
      "         [[ 1.4025,  1.4374,  1.4374,  ...,  0.0431, -0.3927,  0.2173],\n",
      "          [ 1.3851,  1.4374,  1.3502,  ..., -0.1138, -0.2184,  0.1476],\n",
      "          [ 1.4200,  1.5071,  1.3677,  ..., -0.2707, -0.1138,  0.0431],\n",
      "          ...,\n",
      "          [-0.2010, -0.1835, -0.1835,  ...,  0.1825,  0.2522,  0.2348],\n",
      "          [-0.4275, -0.1487, -0.1487,  ...,  0.1825,  0.2173,  0.2348],\n",
      "          [ 0.7054, -0.2881, -0.2184,  ...,  0.1825,  0.1825,  0.2348]]],\n",
      "\n",
      "\n",
      "        ...,\n",
      "\n",
      "\n",
      "        [[[ 0.3994,  0.4337,  0.4337,  ...,  1.4440,  1.4440,  1.4440],\n",
      "          [ 0.3994,  0.4166,  0.4166,  ...,  1.4440,  1.4440,  1.4440],\n",
      "          [ 0.4166,  0.4166,  0.4166,  ...,  1.4612,  1.4612,  1.4440],\n",
      "          ...,\n",
      "          [-2.0837, -2.0837, -2.0837,  ..., -0.2171, -0.1657, -0.1999],\n",
      "          [-2.1008, -2.0837, -2.0837,  ..., -0.2513, -0.2171, -0.2171],\n",
      "          [-2.1008, -2.0837, -2.0837,  ..., -0.1999, -0.2171, -0.2513]],\n",
      "\n",
      "         [[ 0.4153,  0.4678,  0.4678,  ...,  1.6057,  1.6057,  1.6057],\n",
      "          [ 0.4328,  0.4853,  0.4503,  ...,  1.6057,  1.6057,  1.6057],\n",
      "          [ 0.4503,  0.4678,  0.4503,  ...,  1.6232,  1.6232,  1.6057],\n",
      "          ...,\n",
      "          [-2.0007, -2.0007, -2.0007,  ..., -0.0049, -0.0574, -0.0749],\n",
      "          [-2.0182, -2.0007, -2.0007,  ..., -0.0749, -0.1099, -0.1099],\n",
      "          [-2.0182, -2.0007, -2.0007,  ..., -0.0399, -0.1099, -0.1450]],\n",
      "\n",
      "         [[ 0.4962,  0.5659,  0.6008,  ...,  1.8208,  1.8208,  1.8208],\n",
      "          [ 0.5659,  0.6182,  0.6008,  ...,  1.8208,  1.8208,  1.8208],\n",
      "          [ 0.5659,  0.5834,  0.5659,  ...,  1.8383,  1.8383,  1.8208],\n",
      "          ...,\n",
      "          [-1.7696, -1.7696, -1.7696,  ...,  0.1476,  0.1302,  0.1128],\n",
      "          [-1.7870, -1.7696, -1.7696,  ...,  0.0779,  0.0779,  0.0779],\n",
      "          [-1.7870, -1.7696, -1.7696,  ...,  0.1128,  0.0605,  0.0431]]],\n",
      "\n",
      "\n",
      "        [[[ 1.1529,  1.1529,  1.1187,  ...,  0.9132,  0.9303,  0.9303],\n",
      "          [ 1.1700,  1.1529,  1.1187,  ...,  0.9474,  0.9474,  0.9474],\n",
      "          [ 1.1700,  1.1529,  1.1529,  ...,  0.9303,  0.9474,  0.9474],\n",
      "          ...,\n",
      "          [ 1.5639,  1.5639,  1.5810,  ..., -1.8782, -1.8610, -1.7754],\n",
      "          [ 1.5297,  1.5125,  1.5125,  ..., -1.8610, -1.8610, -1.7925],\n",
      "          [ 1.4954,  1.5125,  1.5297,  ..., -1.8439, -1.8610, -1.7925]],\n",
      "\n",
      "         [[ 1.5182,  1.5182,  1.5182,  ...,  1.3256,  1.3256,  1.3256],\n",
      "          [ 1.5357,  1.5182,  1.5007,  ...,  1.3606,  1.3431,  1.3256],\n",
      "          [ 1.5357,  1.5182,  1.5182,  ...,  1.3431,  1.3606,  1.3606],\n",
      "          ...,\n",
      "          [ 2.0084,  2.0084,  1.9909,  ..., -1.7906, -1.7731, -1.7031],\n",
      "          [ 1.9384,  1.9384,  1.9209,  ..., -1.8081, -1.7906, -1.7206],\n",
      "          [ 1.9034,  1.9209,  1.9034,  ..., -1.8081, -1.7731, -1.6856]],\n",
      "\n",
      "         [[ 1.6988,  1.6988,  1.6814,  ...,  1.5245,  1.5420,  1.5594],\n",
      "          [ 1.7163,  1.6988,  1.6814,  ...,  1.5420,  1.5245,  1.5420],\n",
      "          [ 1.7163,  1.6988,  1.6988,  ...,  1.5071,  1.5245,  1.5420],\n",
      "          ...,\n",
      "          [ 2.2217,  2.2217,  2.2217,  ..., -1.5081, -1.4907, -1.4036],\n",
      "          [ 2.1520,  2.1520,  2.1520,  ..., -1.5081, -1.4559, -1.3861],\n",
      "          [ 2.1346,  2.1520,  2.1346,  ..., -1.4907, -1.4559, -1.3687]]],\n",
      "\n",
      "\n",
      "        [[[-0.3712, -0.1999,  0.4679,  ..., -0.7993, -1.0390, -1.0219],\n",
      "          [-0.6281, -0.1828,  0.3138,  ..., -0.9192, -0.8507, -0.9705],\n",
      "          [-0.6623, -0.2171,  0.2111,  ..., -0.7308, -0.7650, -0.6965],\n",
      "          ...,\n",
      "          [ 0.5707,  0.3138,  0.5022,  ...,  0.7248,  0.7933,  0.1597],\n",
      "          [ 0.3652,  0.2111,  0.4337,  ...,  0.8447,  1.0331,  0.2453],\n",
      "          [ 0.9988,  0.6734,  0.3309,  ...,  0.7762,  0.9988,  1.4440]],\n",
      "\n",
      "         [[-0.2850, -0.0749,  0.7654,  ..., -0.5476, -0.7927, -0.7402],\n",
      "          [-0.5476, -0.0399,  0.6254,  ..., -0.5826, -0.4951, -0.6001],\n",
      "          [-0.6001, -0.0574,  0.5378,  ..., -0.3200, -0.3725, -0.2500],\n",
      "          ...,\n",
      "          [ 0.1176, -0.1275,  0.0476,  ...,  0.4328,  0.3978, -0.3200],\n",
      "          [ 0.1352, -0.1975,  0.0476,  ...,  0.5203,  0.7129, -0.1450],\n",
      "          [ 0.7129,  0.1702, -0.0749,  ...,  0.2052,  0.6954,  1.3606]],\n",
      "\n",
      "         [[-0.2358,  0.0082,  0.7228,  ..., -0.8807, -1.1770, -1.2990],\n",
      "          [-0.5321, -0.0092,  0.5659,  ..., -0.9678, -0.9678, -1.1770],\n",
      "          [-0.5147, -0.0441,  0.4788,  ..., -0.7761, -0.9156, -0.8807],\n",
      "          ...,\n",
      "          [-0.0790, -0.2532, -0.1138,  ...,  0.0779,  0.1999, -0.4450],\n",
      "          [-0.2532, -0.3753, -0.1312,  ..., -0.0267,  0.2522, -0.1835],\n",
      "          [ 0.2696, -0.0964, -0.2358,  ..., -0.0267, -0.0615,  0.5136]]]])\n",
      "captions: tensor([[    0,  3535,   335,    88,     6,    20,   115,   170,    39,\n",
      "             3,   327,  1015,  1263,    18,     1],\n",
      "        [    0,   169,   170,    39,     3,    82,   354,    21,    47,\n",
      "           572,   453,   563,   365,    18,     1],\n",
      "        [    0,    32,  1356,    13,     3,    10,    21,     3,    57,\n",
      "           316,   500,     3,   119,    18,     1],\n",
      "        [    0,    47,   103,     6,   251,   999,   144,   294,    21,\n",
      "           273,    39,     3,   669,    18,     1],\n",
      "        [    0,     3,   169,   139,     3,  2973,  2447,    39,     3,\n",
      "           335,   437,    13,   278,    18,     1],\n",
      "        [    0,   366,   468,   469,    13,  1763,   224,    39,    32,\n",
      "          4574,    13,     3,   769,    18,     1],\n",
      "        [    0,     3,   169,  5884,     3,   353,    21,     3,  4062,\n",
      "           730,     3,  2323,   147,    18,     1],\n",
      "        [    0,     3,    10,    21,     3,  2054,   153,    86,     3,\n",
      "            57,     6,     3,    56,    18,     1],\n",
      "        [    0,     3,    10,    77,     3,    59,   708,   105,     3,\n",
      "            59,    56,     6,    57,    18,     1],\n",
      "        [    0,     3,    35,   165,   166,   364,   161,     3,   769,\n",
      "            21,     3,  4991,  6153,    18,     1]])\n"
     ]
    }
   ],
   "source": [
    "import numpy as np\n",
    "import torch.utils.data as data\n",
    "\n",
    "# Randomly sample a caption length, and sample indices with that length.\n",
    "indices = data_loader.dataset.get_train_indices()\n",
    "print('sampled indices:', indices)\n",
    "\n",
    "# Create and assign a batch sampler to retrieve a batch with the sampled indices.\n",
    "new_sampler = data.sampler.SubsetRandomSampler(indices=indices)\n",
    "data_loader.batch_sampler.sampler = new_sampler\n",
    "    \n",
    "# Obtain the batch.\n",
    "images, captions = next(iter(data_loader))\n",
    "    \n",
    "print('images.shape:', images.shape)\n",
    "print('captions.shape:', captions.shape)\n",
    "\n",
    "\n",
    "print('images:', images)\n",
    "print('captions:', captions)"
   ]
  },
  {
   "cell_type": "markdown",
   "metadata": {},
   "source": [
    "<a id='step3'></a>\n",
    "## Step 3:  CNN Encoder\n",
    "\n"
   ]
  },
  {
   "cell_type": "code",
   "execution_count": 14,
   "metadata": {
    "collapsed": true
   },
   "outputs": [],
   "source": [
    "# Watch for any changes in model.py, and re-load it automatically.\n",
    "% load_ext autoreload\n",
    "% autoreload 2\n",
    "\n",
    "# Import EncoderCNN and DecoderRNN. \n",
    "from model import EncoderCNN, DecoderRNN"
   ]
  },
  {
   "cell_type": "markdown",
   "metadata": {},
   "source": [
    "In the next code cell we define a `device` that you will use move PyTorch tensors to GPU (if CUDA is available).  Run this code cell before continuing."
   ]
  },
  {
   "cell_type": "code",
   "execution_count": 15,
   "metadata": {
    "collapsed": true
   },
   "outputs": [],
   "source": [
    "device = torch.device(\"cuda\" if torch.cuda.is_available() else \"cpu\")"
   ]
  },
  {
   "cell_type": "markdown",
   "metadata": {},
   "source": [
    "Run the code cell below to instantiate the CNN encoder in `encoder`.  \n",
    "\n",
    "The pre-processed images from the batch in **Step 2** of this notebook are then passed through the encoder, and the output is stored in `features`."
   ]
  },
  {
   "cell_type": "code",
   "execution_count": 16,
   "metadata": {},
   "outputs": [
    {
     "name": "stderr",
     "output_type": "stream",
     "text": [
      "Downloading: \"https://download.pytorch.org/models/resnet50-19c8e357.pth\" to /root/.torch/models/resnet50-19c8e357.pth\n",
      "100%|██████████| 102502400/102502400 [00:03<00:00, 32106475.75it/s]\n"
     ]
    },
    {
     "name": "stdout",
     "output_type": "stream",
     "text": [
      "type(features): <class 'torch.Tensor'>\n",
      "features.shape: torch.Size([10, 256])\n"
     ]
    }
   ],
   "source": [
    "# Specify the dimensionality of the image embedding.\n",
    "embed_size = 256\n",
    "\n",
    "\n",
    "# Initialize the encoder. (Optional: Add additional arguments if necessary.)\n",
    "encoder = EncoderCNN(embed_size)\n",
    "\n",
    "# Move the encoder to GPU if CUDA is available.\n",
    "encoder.to(device)\n",
    "    \n",
    "# Move last batch of images (from Step 2) to GPU if CUDA is available.   \n",
    "images = images.to(device)\n",
    "\n",
    "# Pass the images through the encoder.\n",
    "features = encoder(images)\n",
    "\n",
    "print('type(features):', type(features))\n",
    "print('features.shape:', features.shape)\n",
    "\n",
    "# Check that your encoder satisfies some requirements of the project! :D\n",
    "assert type(features)==torch.Tensor, \"Encoder output needs to be a PyTorch Tensor.\" \n",
    "assert (features.shape[0]==batch_size) & (features.shape[1]==embed_size), \"The shape of the encoder output is incorrect.\""
   ]
  },
  {
   "cell_type": "code",
   "execution_count": null,
   "metadata": {
    "collapsed": true
   },
   "outputs": [],
   "source": []
  },
  {
   "cell_type": "markdown",
   "metadata": {},
   "source": [
    "<a id='step4'></a>\n",
    "## Step 4:  RNN Decoder\n",
    "\n"
   ]
  },
  {
   "cell_type": "code",
   "execution_count": 18,
   "metadata": {},
   "outputs": [
    {
     "name": "stdout",
     "output_type": "stream",
     "text": [
      "torch.Size([10, 15, 256])\n",
      "type(outputs): <class 'torch.Tensor'>\n",
      "outputs.shape: torch.Size([10, 15, 8855])\n"
     ]
    }
   ],
   "source": [
    "# Specify the number of features in the hidden state of the RNN decoder.\n",
    "hidden_size = 512\n",
    "\n",
    "\n",
    "# Store the size of the vocabulary.\n",
    "vocab_size = len(data_loader.dataset.vocab)\n",
    "\n",
    "# Initialize the decoder.\n",
    "decoder = DecoderRNN(embed_size, hidden_size, vocab_size)\n",
    "\n",
    "# Move the decoder to GPU if CUDA is available.\n",
    "decoder.to(device)\n",
    "    \n",
    "# Move last batch of captions (from Step 1) to GPU if CUDA is available \n",
    "captions = captions.to(device)\n",
    "\n",
    "# Pass the encoder output and captions through the decoder.\n",
    "outputs = decoder(features, captions)\n",
    "\n",
    "print('type(outputs):', type(outputs))\n",
    "print('outputs.shape:', outputs.shape)\n",
    "\n",
    "# Check that your decoder satisfies some requirements of the project! :D\n",
    "assert type(outputs)==torch.Tensor, \"Decoder output needs to be a PyTorch Tensor.\"\n",
    "assert (outputs.shape[0]==batch_size) & (outputs.shape[1]==captions.shape[1]) & (outputs.shape[2]==vocab_size), \"The shape of the decoder output is incorrect.\""
   ]
  }
 ],
 "metadata": {
  "anaconda-cloud": {},
  "kernelspec": {
   "display_name": "Python 3",
   "language": "python",
   "name": "python3"
  },
  "language_info": {
   "codemirror_mode": {
    "name": "ipython",
    "version": 3
   },
   "file_extension": ".py",
   "mimetype": "text/x-python",
   "name": "python",
   "nbconvert_exporter": "python",
   "pygments_lexer": "ipython3",
   "version": "3.6.3"
  }
 },
 "nbformat": 4,
 "nbformat_minor": 2
}
